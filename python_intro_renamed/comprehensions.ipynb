{
 "cells": [
  {
   "cell_type": "markdown",
   "metadata": {},
   "source": [
    "Introductory Python code examples  \n",
    "Lee Spector, lspector@amherst.edu  \n",
    "August, 2020"
   ]
  },
  {
   "cell_type": "markdown",
   "metadata": {},
   "source": [
    "# Python Looping and List Comprehensions"
   ]
  },
  {
   "cell_type": "markdown",
   "metadata": {},
   "source": [
    "This mini-lesson provides a couple of simple examples of how to process lists of data with loops and with list comprehensions. \n",
    "\n",
    "One of the morals is that list comprehensions can make your code easier to write, easier to read, and less likely to contain bugs.\n",
    "\n",
    "First, let's suppose you have some numerical data in a list:"
   ]
  },
  {
   "cell_type": "code",
   "execution_count": 1,
   "metadata": {},
   "outputs": [],
   "source": [
    "data = [1, 2, 3, 4, 5]"
   ]
  },
  {
   "cell_type": "markdown",
   "metadata": {},
   "source": [
    "Now let's suppose that what you **want** is a list in which all of these numbers have had 10 added to them. \n",
    "\n",
    "One common way to do this is to create a new, initially empty list, and then to loop through the original list, and for each item, add it plus 10 to the new list:"
   ]
  },
  {
   "cell_type": "code",
   "execution_count": 2,
   "metadata": {},
   "outputs": [],
   "source": [
    "i = 0\n",
    "processed = []\n",
    "while i < len(data):\n",
    "    processed.append(data[i] + 10)\n",
    "    i = i + 1"
   ]
  },
  {
   "cell_type": "markdown",
   "metadata": {},
   "source": [
    "After doing this, the contents of our original variable are unchanged:"
   ]
  },
  {
   "cell_type": "code",
   "execution_count": 3,
   "metadata": {},
   "outputs": [
    {
     "data": {
      "text/plain": [
       "[1, 2, 3, 4, 5]"
      ]
     },
     "execution_count": 3,
     "metadata": {},
     "output_type": "execute_result"
    }
   ],
   "source": [
    "data"
   ]
  },
  {
   "cell_type": "markdown",
   "metadata": {},
   "source": [
    "And our new list contains the processed values:"
   ]
  },
  {
   "cell_type": "code",
   "execution_count": 4,
   "metadata": {},
   "outputs": [
    {
     "data": {
      "text/plain": [
       "[11, 12, 13, 14, 15]"
      ]
     },
     "execution_count": 4,
     "metadata": {},
     "output_type": "execute_result"
    }
   ],
   "source": [
    "processed"
   ]
  },
  {
   "cell_type": "markdown",
   "metadata": {},
   "source": [
    "We can make this a bit simpler by using a `for` loop instead of a `while` loop. This will automatically take care of the business of incrementing and comparing against the loop value, so that our code is less cluttered up by that stuff. Since we don't have to write that stuff, it's also less likeley that we'll introduce a bug by messing it up.\n",
    "\n",
    "Here's how we could do the same thing as above (except this time we add 100) with a `for` loop:"
   ]
  },
  {
   "cell_type": "code",
   "execution_count": null,
   "metadata": {},
   "outputs": [],
   "source": [
    "processed = []\n",
    "for i in range(0, len(data)):\n",
    "    processed.append(data[i] + 100)"
   ]
  },
  {
   "cell_type": "markdown",
   "metadata": {},
   "source": [
    "And here is the result:"
   ]
  },
  {
   "cell_type": "code",
   "execution_count": null,
   "metadata": {},
   "outputs": [],
   "source": [
    "processed"
   ]
  },
  {
   "cell_type": "markdown",
   "metadata": {},
   "source": [
    "A further step along the same path -- of writing less, and therefore having fewer opportunities to make mistakes -- is to do this task with a list comprehension.\n",
    "\n",
    "When using a list comprehension, we express the list that we want in terms of the elements of the list that we start with, and the entire looping process is taken care of for us.\n",
    "\n",
    "Here's how we could do the same thing as above (except this time we add 1000) with a list comprehension:"
   ]
  },
  {
   "cell_type": "code",
   "execution_count": null,
   "metadata": {},
   "outputs": [],
   "source": [
    "processed = [item + 1000 for item in data]"
   ]
  },
  {
   "cell_type": "markdown",
   "metadata": {},
   "source": [
    "And here is the result:"
   ]
  },
  {
   "cell_type": "code",
   "execution_count": null,
   "metadata": {},
   "outputs": [],
   "source": [
    "processed"
   ]
  },
  {
   "cell_type": "markdown",
   "metadata": {},
   "source": [
    "There are more options for list comprehensions, which you can find out about in the Python documentation and other tutorials. Here we'll just look at adding an `if` clause which allows you to skip over some of the items in the initial list, which can be handy for skipping over \"bad\" data.\n",
    "\n",
    "For example, suppose your data is a list of strings, each of which **should** contain a floating-point number, but some of which are empty strings:"
   ]
  },
  {
   "cell_type": "code",
   "execution_count": null,
   "metadata": {},
   "outputs": [],
   "source": [
    "data = [\"1.2\", \"3.4\", \"\", \"5.6\"]"
   ]
  },
  {
   "cell_type": "markdown",
   "metadata": {},
   "source": [
    "We can get a list of the floating-point numbers of all of the non-empty items with a list comprehension like the following, which says that we want a list of the results of calling `float` on each item, but only if the item is not equal to the empty string:"
   ]
  },
  {
   "cell_type": "code",
   "execution_count": null,
   "metadata": {},
   "outputs": [],
   "source": [
    "processed = [float(item) for item in data if item != \"\"]"
   ]
  },
  {
   "cell_type": "markdown",
   "metadata": {},
   "source": [
    "And here is the result:"
   ]
  },
  {
   "cell_type": "code",
   "execution_count": null,
   "metadata": {},
   "outputs": [],
   "source": [
    "processed"
   ]
  },
  {
   "cell_type": "markdown",
   "metadata": {},
   "source": [
    "But what if you don't actually want to **skip** the empty items, but you instead want to replace them with zeros?\n",
    "\n",
    "There are a couple of good ways to do this, but one of the nicest is to take advantage of the fact that there is a list comprehension syntax in which you can provide an `else` for the `if`. To use this you put the `if` part before the `for` part, and follow it with an `else` part (still before the `for`).\n",
    "\n",
    "In our example here, that would look like this:"
   ]
  },
  {
   "cell_type": "code",
   "execution_count": null,
   "metadata": {},
   "outputs": [],
   "source": [
    "processed = [float(item) if item != \"\" else 0.0 for item in data]"
   ]
  },
  {
   "cell_type": "markdown",
   "metadata": {},
   "source": [
    "And here is the result:"
   ]
  },
  {
   "cell_type": "code",
   "execution_count": null,
   "metadata": {},
   "outputs": [],
   "source": [
    "processed"
   ]
  },
  {
   "cell_type": "markdown",
   "metadata": {},
   "source": [
    "Sometimes, if you're doing something complicated, you may have to use an explicit `while` or `for` loop. \n",
    "\n",
    "But in many cases you don't have to, and in those cases you can often save yourself a lot of effort, and avoid bugs, by using a list comprehension. \n",
    "\n",
    "In many cases you might also find that while it's hard to make one list comprehension do the whole job, a couple of list comprehensions in a row, each of which processes a list and puts the result in a variable, can still be easier to read, write, and debug than an explicit loop. \n",
    "\n",
    "And sometimes the best solution will combine these things, using an explicit loop where it really can't be avoided, but keeping that as small and simple as possible by using list comprehensions to process the data before and/or after the explicit loop.\n",
    "\n",
    "A good rule of thumb is that if you find yourself writing a big loop, with lots of variables and other code within it, then you could probably make your job simpler, and your code more likely to do what you want, by stepping back and thinking about how to break the process up into simpler steps.\n",
    "\n",
    "And often some of the most significant simplifications can be achieved by using list comprehensions to take care of things that would otherwise require explicit loops.\n",
    "\n",
    "Please feel free to send me code that you're working on, to see if I can help with simplification/debugging that may involve list comprehensions among other things."
   ]
  },
  {
   "cell_type": "code",
   "execution_count": null,
   "metadata": {},
   "outputs": [],
   "source": []
  }
 ],
 "metadata": {
  "kernelspec": {
   "display_name": "Python 3",
   "language": "python",
   "name": "python3"
  },
  "language_info": {
   "codemirror_mode": {
    "name": "ipython",
    "version": 3
   },
   "file_extension": ".py",
   "mimetype": "text/x-python",
   "name": "python",
   "nbconvert_exporter": "python",
   "pygments_lexer": "ipython3",
   "version": "3.8.3"
  }
 },
 "nbformat": 4,
 "nbformat_minor": 2
}
