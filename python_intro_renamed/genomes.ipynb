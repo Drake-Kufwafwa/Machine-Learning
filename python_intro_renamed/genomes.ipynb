{
 "cells": [
  {
   "cell_type": "markdown",
   "metadata": {},
   "source": [
    "Introductory Python code examples  \n",
    "Lee Spector, lspector@amherst.edu  \n",
    "August, 2020"
   ]
  },
  {
   "cell_type": "code",
   "execution_count": null,
   "metadata": {},
   "outputs": [],
   "source": [
    "population_size = 500 #1000"
   ]
  },
  {
   "cell_type": "code",
   "execution_count": null,
   "metadata": {},
   "outputs": [],
   "source": [
    "genome_length = 75 #750"
   ]
  },
  {
   "cell_type": "code",
   "execution_count": null,
   "metadata": {},
   "outputs": [],
   "source": [
    "mutation_rate_reciprocal = 5000 #50000"
   ]
  },
  {
   "cell_type": "code",
   "execution_count": null,
   "metadata": {},
   "outputs": [],
   "source": [
    "generations = 500 #1000"
   ]
  },
  {
   "cell_type": "code",
   "execution_count": null,
   "metadata": {},
   "outputs": [],
   "source": [
    "def count_unique(sequences):\n",
    "    return len(set(sequences))"
   ]
  },
  {
   "cell_type": "code",
   "execution_count": null,
   "metadata": {},
   "outputs": [],
   "source": [
    "count_unique([\"GA\", \"GA\", \"TT\", \"AC\", \"AC\"])"
   ]
  },
  {
   "cell_type": "code",
   "execution_count": null,
   "metadata": {},
   "outputs": [],
   "source": [
    "import random as r"
   ]
  },
  {
   "cell_type": "code",
   "execution_count": null,
   "metadata": {},
   "outputs": [],
   "source": [
    "def random_base():\n",
    "    return r.choice([\"G\", \"A\", \"T\", \"C\"])"
   ]
  },
  {
   "cell_type": "code",
   "execution_count": null,
   "metadata": {},
   "outputs": [],
   "source": [
    "def random_genome():\n",
    "    return \"\".join([random_base() for _ in range(genome_length)])"
   ]
  },
  {
   "cell_type": "code",
   "execution_count": null,
   "metadata": {},
   "outputs": [],
   "source": [
    "random_genome()"
   ]
  },
  {
   "cell_type": "code",
   "execution_count": null,
   "metadata": {},
   "outputs": [],
   "source": [
    "def mutate_base(base):\n",
    "    if (r.randint(0, mutation_rate_reciprocal) == 0):\n",
    "        return random_base()\n",
    "    else:\n",
    "        return base"
   ]
  },
  {
   "cell_type": "code",
   "execution_count": null,
   "metadata": {},
   "outputs": [],
   "source": [
    "def mutate_genome(genome):\n",
    "    return \"\".join([mutate_base(b) for b in genome])"
   ]
  },
  {
   "cell_type": "code",
   "execution_count": null,
   "metadata": {},
   "outputs": [],
   "source": [
    "mutate_genome(\"\".join([\"A\" for _ in range(5000)]))"
   ]
  },
  {
   "cell_type": "code",
   "execution_count": null,
   "metadata": {},
   "outputs": [],
   "source": [
    "%matplotlib inline\n",
    "\n",
    "from matplotlib import pyplot as plt \n",
    "import numpy as np\n",
    "\n",
    "plt.rcdefaults() # set the matplotlib runtime configuration (rc) to its defaults"
   ]
  },
  {
   "cell_type": "code",
   "execution_count": null,
   "metadata": {},
   "outputs": [],
   "source": [
    "def run_simulation():\n",
    "    founder = random_genome()\n",
    "    founder_counts = []\n",
    "    unique_genomes = []\n",
    "    print(\"Founder =\", founder)\n",
    "    population = [founder for _ in range(population_size)]\n",
    "    for generation in range(generations):\n",
    "        print (\".\", end=\"\", flush=True)\n",
    "        founder_counts.append(population.count(founder))\n",
    "        unique_genomes.append(count_unique(population))\n",
    "        population = [mutate_genome(r.choice(population)) for _ in range(population_size)]\n",
    "    plt.plot(range(generations), founder_counts, label='Copies of Founder')\n",
    "    plt.plot(range(generations), unique_genomes, label='Unique Genomes')\n",
    "    plt.xlabel('Generation')\n",
    "    plt.legend(loc='center left', bbox_to_anchor=(1, 0.5))\n",
    "    plt.title('Genome Mutation Simulation Results')"
   ]
  },
  {
   "cell_type": "code",
   "execution_count": null,
   "metadata": {},
   "outputs": [],
   "source": [
    "run_simulation()"
   ]
  },
  {
   "cell_type": "code",
   "execution_count": null,
   "metadata": {},
   "outputs": [],
   "source": []
  }
 ],
 "metadata": {
  "kernelspec": {
   "display_name": "Python 3",
   "language": "python",
   "name": "python3"
  },
  "language_info": {
   "codemirror_mode": {
    "name": "ipython",
    "version": 3
   },
   "file_extension": ".py",
   "mimetype": "text/x-python",
   "name": "python",
   "nbconvert_exporter": "python",
   "pygments_lexer": "ipython3",
   "version": "3.8.3"
  }
 },
 "nbformat": 4,
 "nbformat_minor": 1
}
