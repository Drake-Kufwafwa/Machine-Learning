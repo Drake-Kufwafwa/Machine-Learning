{
 "cells": [
  {
   "cell_type": "markdown",
   "metadata": {},
   "source": [
    "# Training LinearRegressionGD on the Breast Cancer dataset"
   ]
  },
  {
   "cell_type": "markdown",
   "metadata": {},
   "source": [
    "The breast cancer dataset is imported from sklearn. It contains 569 samples. A summary of the data can be found below.\n",
    "\n",
    "We want to compare model performance between the Linear Regression model and the Linear Regression GD model."
   ]
  },
  {
   "cell_type": "code",
   "execution_count": 12,
   "metadata": {},
   "outputs": [
    {
     "name": "stdout",
     "output_type": "stream",
     "text": [
      "MSE train: 8633007522077303898112.000, test: 7065331788890949812224.000\n",
      "R^2 train: -8633007522077300752384.000, test: -7359732204517148590080.000\n"
     ]
    }
   ],
   "source": [
    "from sklearn import datasets\n",
    "from sklearn.preprocessing import StandardScaler\n",
    "from sklearn.model_selection import train_test_split\n",
    "from sklearn.metrics import r2_score\n",
    "from sklearn.metrics import mean_squared_error\n",
    "import numpy as np\n",
    "\n",
    "cancer = datasets.load_breast_cancer()\n",
    "X = cancer.data\n",
    "y = cancer.target\n",
    "\n",
    "X_train, X_test, y_train, y_test = train_test_split(\n",
    "    X, y, test_size=0.4, random_state=1)\n",
    "\n",
    "sc = StandardScaler()\n",
    "sc.fit(X_train)\n",
    "X_train_std = sc.transform(X_train)\n",
    "X_test_std = sc.transform(X_test)\n",
    "\n",
    "sc_y = StandardScaler()\n",
    "sc.fit(y_train[:, np.newaxis])\n",
    "y_train_std = sc.transform(y_train[:, np.newaxis]).flatten()\n",
    "y_test_std = sc.transform(y_test[:, np.newaxis]).flatten()\n",
    "\n",
    "##################\n",
    "\n",
    "class LinearRegressionGD(object):\n",
    "\n",
    "    def __init__(self, eta=0.001, n_iter=20):\n",
    "        self.eta = eta\n",
    "        self.n_iter = n_iter\n",
    "\n",
    "    def fit(self, X, y):\n",
    "        self.w_ = np.zeros(1 + X.shape[1])\n",
    "        self.cost_ = []\n",
    "\n",
    "        for i in range(self.n_iter):\n",
    "            output = self.net_input(X)\n",
    "            errors = (y - output)\n",
    "            self.w_[1:] += self.eta * X.T.dot(errors)\n",
    "            self.w_[0] += self.eta * errors.sum()\n",
    "            cost = (errors**2).sum() / 2.0\n",
    "            self.cost_.append(cost)\n",
    "        return self\n",
    "\n",
    "    def net_input(self, X):\n",
    "        return np.dot(X, self.w_[1:]) + self.w_[0]\n",
    "\n",
    "    def predict(self, X):\n",
    "        return self.net_input(X)\n",
    "    \n",
    "est = LinearRegressionGD()\n",
    "est.fit(X_train_std, y_train_std)\n",
    "\n",
    "##################\n",
    "\n",
    "y_train_pred = est.predict(X_train_std)\n",
    "y_test_pred = est.predict(X_test_std)\n",
    "\n",
    "print('MSE train: %.3f, test: %.3f' % (\n",
    "        mean_squared_error(y_train_std, y_train_pred),\n",
    "        mean_squared_error(y_test_std, y_test_pred)))\n",
    "print('R^2 train: %.3f, test: %.3f' % (\n",
    "        r2_score(y_train_std, y_train_pred),\n",
    "        r2_score(y_test_std, y_test_pred)))"
   ]
  },
  {
   "cell_type": "code",
   "execution_count": 13,
   "metadata": {},
   "outputs": [
    {
     "data": {
      "text/plain": [
       "{'data': array([[1.799e+01, 1.038e+01, 1.228e+02, ..., 2.654e-01, 4.601e-01,\n",
       "         1.189e-01],\n",
       "        [2.057e+01, 1.777e+01, 1.329e+02, ..., 1.860e-01, 2.750e-01,\n",
       "         8.902e-02],\n",
       "        [1.969e+01, 2.125e+01, 1.300e+02, ..., 2.430e-01, 3.613e-01,\n",
       "         8.758e-02],\n",
       "        ...,\n",
       "        [1.660e+01, 2.808e+01, 1.083e+02, ..., 1.418e-01, 2.218e-01,\n",
       "         7.820e-02],\n",
       "        [2.060e+01, 2.933e+01, 1.401e+02, ..., 2.650e-01, 4.087e-01,\n",
       "         1.240e-01],\n",
       "        [7.760e+00, 2.454e+01, 4.792e+01, ..., 0.000e+00, 2.871e-01,\n",
       "         7.039e-02]]),\n",
       " 'target': array([0, 0, 0, 0, 0, 0, 0, 0, 0, 0, 0, 0, 0, 0, 0, 0, 0, 0, 0, 1, 1, 1,\n",
       "        0, 0, 0, 0, 0, 0, 0, 0, 0, 0, 0, 0, 0, 0, 0, 1, 0, 0, 0, 0, 0, 0,\n",
       "        0, 0, 1, 0, 1, 1, 1, 1, 1, 0, 0, 1, 0, 0, 1, 1, 1, 1, 0, 1, 0, 0,\n",
       "        1, 1, 1, 1, 0, 1, 0, 0, 1, 0, 1, 0, 0, 1, 1, 1, 0, 0, 1, 0, 0, 0,\n",
       "        1, 1, 1, 0, 1, 1, 0, 0, 1, 1, 1, 0, 0, 1, 1, 1, 1, 0, 1, 1, 0, 1,\n",
       "        1, 1, 1, 1, 1, 1, 1, 0, 0, 0, 1, 0, 0, 1, 1, 1, 0, 0, 1, 0, 1, 0,\n",
       "        0, 1, 0, 0, 1, 1, 0, 1, 1, 0, 1, 1, 1, 1, 0, 1, 1, 1, 1, 1, 1, 1,\n",
       "        1, 1, 0, 1, 1, 1, 1, 0, 0, 1, 0, 1, 1, 0, 0, 1, 1, 0, 0, 1, 1, 1,\n",
       "        1, 0, 1, 1, 0, 0, 0, 1, 0, 1, 0, 1, 1, 1, 0, 1, 1, 0, 0, 1, 0, 0,\n",
       "        0, 0, 1, 0, 0, 0, 1, 0, 1, 0, 1, 1, 0, 1, 0, 0, 0, 0, 1, 1, 0, 0,\n",
       "        1, 1, 1, 0, 1, 1, 1, 1, 1, 0, 0, 1, 1, 0, 1, 1, 0, 0, 1, 0, 1, 1,\n",
       "        1, 1, 0, 1, 1, 1, 1, 1, 0, 1, 0, 0, 0, 0, 0, 0, 0, 0, 0, 0, 0, 0,\n",
       "        0, 0, 1, 1, 1, 1, 1, 1, 0, 1, 0, 1, 1, 0, 1, 1, 0, 1, 0, 0, 1, 1,\n",
       "        1, 1, 1, 1, 1, 1, 1, 1, 1, 1, 1, 0, 1, 1, 0, 1, 0, 1, 1, 1, 1, 1,\n",
       "        1, 1, 1, 1, 1, 1, 1, 1, 1, 0, 1, 1, 1, 0, 1, 0, 1, 1, 1, 1, 0, 0,\n",
       "        0, 1, 1, 1, 1, 0, 1, 0, 1, 0, 1, 1, 1, 0, 1, 1, 1, 1, 1, 1, 1, 0,\n",
       "        0, 0, 1, 1, 1, 1, 1, 1, 1, 1, 1, 1, 1, 0, 0, 1, 0, 0, 0, 1, 0, 0,\n",
       "        1, 1, 1, 1, 1, 0, 1, 1, 1, 1, 1, 0, 1, 1, 1, 0, 1, 1, 0, 0, 1, 1,\n",
       "        1, 1, 1, 1, 0, 1, 1, 1, 1, 1, 1, 1, 0, 1, 1, 1, 1, 1, 0, 1, 1, 0,\n",
       "        1, 1, 1, 1, 1, 1, 1, 1, 1, 1, 1, 1, 0, 1, 0, 0, 1, 0, 1, 1, 1, 1,\n",
       "        1, 0, 1, 1, 0, 1, 0, 1, 1, 0, 1, 0, 1, 1, 1, 1, 1, 1, 1, 1, 0, 0,\n",
       "        1, 1, 1, 1, 1, 1, 0, 1, 1, 1, 1, 1, 1, 1, 1, 1, 1, 0, 1, 1, 1, 1,\n",
       "        1, 1, 1, 0, 1, 0, 1, 1, 0, 1, 1, 1, 1, 1, 0, 0, 1, 0, 1, 0, 1, 1,\n",
       "        1, 1, 1, 0, 1, 1, 0, 1, 0, 1, 0, 0, 1, 1, 1, 0, 1, 1, 1, 1, 1, 1,\n",
       "        1, 1, 1, 1, 1, 0, 1, 0, 0, 1, 1, 1, 1, 1, 1, 1, 1, 1, 1, 1, 1, 1,\n",
       "        1, 1, 1, 1, 1, 1, 1, 1, 1, 1, 1, 1, 0, 0, 0, 0, 0, 0, 1]),\n",
       " 'frame': None,\n",
       " 'target_names': array(['malignant', 'benign'], dtype='<U9'),\n",
       " 'DESCR': '.. _breast_cancer_dataset:\\n\\nBreast cancer wisconsin (diagnostic) dataset\\n--------------------------------------------\\n\\n**Data Set Characteristics:**\\n\\n    :Number of Instances: 569\\n\\n    :Number of Attributes: 30 numeric, predictive attributes and the class\\n\\n    :Attribute Information:\\n        - radius (mean of distances from center to points on the perimeter)\\n        - texture (standard deviation of gray-scale values)\\n        - perimeter\\n        - area\\n        - smoothness (local variation in radius lengths)\\n        - compactness (perimeter^2 / area - 1.0)\\n        - concavity (severity of concave portions of the contour)\\n        - concave points (number of concave portions of the contour)\\n        - symmetry\\n        - fractal dimension (\"coastline approximation\" - 1)\\n\\n        The mean, standard error, and \"worst\" or largest (mean of the three\\n        worst/largest values) of these features were computed for each image,\\n        resulting in 30 features.  For instance, field 0 is Mean Radius, field\\n        10 is Radius SE, field 20 is Worst Radius.\\n\\n        - class:\\n                - WDBC-Malignant\\n                - WDBC-Benign\\n\\n    :Summary Statistics:\\n\\n    ===================================== ====== ======\\n                                           Min    Max\\n    ===================================== ====== ======\\n    radius (mean):                        6.981  28.11\\n    texture (mean):                       9.71   39.28\\n    perimeter (mean):                     43.79  188.5\\n    area (mean):                          143.5  2501.0\\n    smoothness (mean):                    0.053  0.163\\n    compactness (mean):                   0.019  0.345\\n    concavity (mean):                     0.0    0.427\\n    concave points (mean):                0.0    0.201\\n    symmetry (mean):                      0.106  0.304\\n    fractal dimension (mean):             0.05   0.097\\n    radius (standard error):              0.112  2.873\\n    texture (standard error):             0.36   4.885\\n    perimeter (standard error):           0.757  21.98\\n    area (standard error):                6.802  542.2\\n    smoothness (standard error):          0.002  0.031\\n    compactness (standard error):         0.002  0.135\\n    concavity (standard error):           0.0    0.396\\n    concave points (standard error):      0.0    0.053\\n    symmetry (standard error):            0.008  0.079\\n    fractal dimension (standard error):   0.001  0.03\\n    radius (worst):                       7.93   36.04\\n    texture (worst):                      12.02  49.54\\n    perimeter (worst):                    50.41  251.2\\n    area (worst):                         185.2  4254.0\\n    smoothness (worst):                   0.071  0.223\\n    compactness (worst):                  0.027  1.058\\n    concavity (worst):                    0.0    1.252\\n    concave points (worst):               0.0    0.291\\n    symmetry (worst):                     0.156  0.664\\n    fractal dimension (worst):            0.055  0.208\\n    ===================================== ====== ======\\n\\n    :Missing Attribute Values: None\\n\\n    :Class Distribution: 212 - Malignant, 357 - Benign\\n\\n    :Creator:  Dr. William H. Wolberg, W. Nick Street, Olvi L. Mangasarian\\n\\n    :Donor: Nick Street\\n\\n    :Date: November, 1995\\n\\nThis is a copy of UCI ML Breast Cancer Wisconsin (Diagnostic) datasets.\\nhttps://goo.gl/U2Uwz2\\n\\nFeatures are computed from a digitized image of a fine needle\\naspirate (FNA) of a breast mass.  They describe\\ncharacteristics of the cell nuclei present in the image.\\n\\nSeparating plane described above was obtained using\\nMultisurface Method-Tree (MSM-T) [K. P. Bennett, \"Decision Tree\\nConstruction Via Linear Programming.\" Proceedings of the 4th\\nMidwest Artificial Intelligence and Cognitive Science Society,\\npp. 97-101, 1992], a classification method which uses linear\\nprogramming to construct a decision tree.  Relevant features\\nwere selected using an exhaustive search in the space of 1-4\\nfeatures and 1-3 separating planes.\\n\\nThe actual linear program used to obtain the separating plane\\nin the 3-dimensional space is that described in:\\n[K. P. Bennett and O. L. Mangasarian: \"Robust Linear\\nProgramming Discrimination of Two Linearly Inseparable Sets\",\\nOptimization Methods and Software 1, 1992, 23-34].\\n\\nThis database is also available through the UW CS ftp server:\\n\\nftp ftp.cs.wisc.edu\\ncd math-prog/cpo-dataset/machine-learn/WDBC/\\n\\n.. topic:: References\\n\\n   - W.N. Street, W.H. Wolberg and O.L. Mangasarian. Nuclear feature extraction \\n     for breast tumor diagnosis. IS&T/SPIE 1993 International Symposium on \\n     Electronic Imaging: Science and Technology, volume 1905, pages 861-870,\\n     San Jose, CA, 1993.\\n   - O.L. Mangasarian, W.N. Street and W.H. Wolberg. Breast cancer diagnosis and \\n     prognosis via linear programming. Operations Research, 43(4), pages 570-577, \\n     July-August 1995.\\n   - W.H. Wolberg, W.N. Street, and O.L. Mangasarian. Machine learning techniques\\n     to diagnose breast cancer from fine-needle aspirates. Cancer Letters 77 (1994) \\n     163-171.',\n",
       " 'feature_names': array(['mean radius', 'mean texture', 'mean perimeter', 'mean area',\n",
       "        'mean smoothness', 'mean compactness', 'mean concavity',\n",
       "        'mean concave points', 'mean symmetry', 'mean fractal dimension',\n",
       "        'radius error', 'texture error', 'perimeter error', 'area error',\n",
       "        'smoothness error', 'compactness error', 'concavity error',\n",
       "        'concave points error', 'symmetry error',\n",
       "        'fractal dimension error', 'worst radius', 'worst texture',\n",
       "        'worst perimeter', 'worst area', 'worst smoothness',\n",
       "        'worst compactness', 'worst concavity', 'worst concave points',\n",
       "        'worst symmetry', 'worst fractal dimension'], dtype='<U23'),\n",
       " 'filename': '/opt/anaconda3/lib/python3.8/site-packages/sklearn/datasets/data/breast_cancer.csv'}"
      ]
     },
     "execution_count": 13,
     "metadata": {},
     "output_type": "execute_result"
    }
   ],
   "source": [
    "cancer"
   ]
  },
  {
   "cell_type": "code",
   "execution_count": 7,
   "metadata": {},
   "outputs": [
    {
     "data": {
      "text/plain": [
       "array([[ 2.45523767,  0.56480743,  2.3364474 , ...,  1.7504593 ,\n",
       "         1.23570672,  0.4469218 ],\n",
       "       [ 0.44175802,  0.98434205,  0.43397348, ..., -0.0638393 ,\n",
       "        -0.10977641, -1.25478688],\n",
       "       [ 0.1839675 ,  0.67243673,  0.37108178, ...,  1.94120463,\n",
       "        -0.01145264,  1.83352098],\n",
       "       ...,\n",
       "       [ 0.80809192,  1.10954347,  0.84670026, ...,  1.08950455,\n",
       "         0.75961269,  2.91322579],\n",
       "       [-0.05211435,  0.39128265, -0.11279124, ..., -0.54099836,\n",
       "        -1.1154388 , -0.47434807],\n",
       "       [-0.32347279, -0.23033147, -0.39501774, ..., -0.97719892,\n",
       "        -1.52770864, -1.32402881]])"
      ]
     },
     "execution_count": 7,
     "metadata": {},
     "output_type": "execute_result"
    }
   ],
   "source": [
    "X_train_std"
   ]
  },
  {
   "cell_type": "code",
   "execution_count": 9,
   "metadata": {},
   "outputs": [
    {
     "data": {
      "text/plain": [
       "array([-1.25830574, -1.25830574, -1.25830574,  0.79471941,  0.79471941,\n",
       "       -1.25830574,  0.79471941, -1.25830574, -1.25830574, -1.25830574,\n",
       "        0.79471941, -1.25830574,  0.79471941,  0.79471941,  0.79471941,\n",
       "        0.79471941,  0.79471941, -1.25830574,  0.79471941,  0.79471941,\n",
       "       -1.25830574, -1.25830574, -1.25830574, -1.25830574,  0.79471941,\n",
       "       -1.25830574,  0.79471941,  0.79471941, -1.25830574,  0.79471941,\n",
       "       -1.25830574,  0.79471941,  0.79471941,  0.79471941, -1.25830574,\n",
       "        0.79471941,  0.79471941,  0.79471941, -1.25830574,  0.79471941,\n",
       "        0.79471941,  0.79471941,  0.79471941, -1.25830574,  0.79471941,\n",
       "        0.79471941, -1.25830574, -1.25830574, -1.25830574,  0.79471941,\n",
       "        0.79471941, -1.25830574,  0.79471941,  0.79471941,  0.79471941,\n",
       "        0.79471941,  0.79471941, -1.25830574,  0.79471941,  0.79471941,\n",
       "        0.79471941, -1.25830574,  0.79471941, -1.25830574, -1.25830574,\n",
       "       -1.25830574, -1.25830574,  0.79471941, -1.25830574, -1.25830574,\n",
       "       -1.25830574,  0.79471941,  0.79471941, -1.25830574,  0.79471941,\n",
       "        0.79471941,  0.79471941,  0.79471941, -1.25830574, -1.25830574,\n",
       "        0.79471941,  0.79471941,  0.79471941, -1.25830574,  0.79471941,\n",
       "        0.79471941,  0.79471941, -1.25830574,  0.79471941,  0.79471941,\n",
       "       -1.25830574,  0.79471941,  0.79471941,  0.79471941,  0.79471941,\n",
       "       -1.25830574, -1.25830574,  0.79471941, -1.25830574, -1.25830574,\n",
       "        0.79471941, -1.25830574,  0.79471941, -1.25830574, -1.25830574,\n",
       "        0.79471941,  0.79471941, -1.25830574,  0.79471941,  0.79471941,\n",
       "        0.79471941,  0.79471941,  0.79471941, -1.25830574,  0.79471941,\n",
       "        0.79471941,  0.79471941,  0.79471941, -1.25830574,  0.79471941,\n",
       "        0.79471941,  0.79471941,  0.79471941,  0.79471941, -1.25830574,\n",
       "       -1.25830574, -1.25830574,  0.79471941, -1.25830574, -1.25830574,\n",
       "        0.79471941, -1.25830574,  0.79471941,  0.79471941,  0.79471941,\n",
       "       -1.25830574,  0.79471941, -1.25830574,  0.79471941,  0.79471941,\n",
       "        0.79471941,  0.79471941, -1.25830574, -1.25830574,  0.79471941,\n",
       "        0.79471941,  0.79471941,  0.79471941, -1.25830574,  0.79471941,\n",
       "        0.79471941, -1.25830574, -1.25830574, -1.25830574,  0.79471941,\n",
       "       -1.25830574, -1.25830574, -1.25830574,  0.79471941,  0.79471941,\n",
       "        0.79471941,  0.79471941,  0.79471941,  0.79471941,  0.79471941,\n",
       "       -1.25830574,  0.79471941, -1.25830574, -1.25830574, -1.25830574,\n",
       "       -1.25830574,  0.79471941,  0.79471941, -1.25830574,  0.79471941,\n",
       "        0.79471941,  0.79471941,  0.79471941,  0.79471941,  0.79471941,\n",
       "        0.79471941, -1.25830574, -1.25830574,  0.79471941,  0.79471941,\n",
       "        0.79471941,  0.79471941, -1.25830574,  0.79471941,  0.79471941,\n",
       "        0.79471941,  0.79471941, -1.25830574,  0.79471941,  0.79471941,\n",
       "        0.79471941, -1.25830574,  0.79471941, -1.25830574,  0.79471941,\n",
       "        0.79471941, -1.25830574, -1.25830574, -1.25830574, -1.25830574,\n",
       "       -1.25830574,  0.79471941,  0.79471941,  0.79471941,  0.79471941,\n",
       "        0.79471941, -1.25830574,  0.79471941,  0.79471941,  0.79471941,\n",
       "        0.79471941, -1.25830574, -1.25830574,  0.79471941,  0.79471941,\n",
       "        0.79471941, -1.25830574,  0.79471941,  0.79471941,  0.79471941,\n",
       "       -1.25830574,  0.79471941,  0.79471941, -1.25830574,  0.79471941,\n",
       "        0.79471941, -1.25830574,  0.79471941, -1.25830574,  0.79471941,\n",
       "        0.79471941,  0.79471941,  0.79471941, -1.25830574, -1.25830574,\n",
       "        0.79471941,  0.79471941,  0.79471941, -1.25830574,  0.79471941,\n",
       "       -1.25830574, -1.25830574, -1.25830574,  0.79471941,  0.79471941,\n",
       "        0.79471941, -1.25830574,  0.79471941,  0.79471941,  0.79471941,\n",
       "       -1.25830574, -1.25830574, -1.25830574,  0.79471941, -1.25830574,\n",
       "        0.79471941, -1.25830574, -1.25830574,  0.79471941,  0.79471941,\n",
       "        0.79471941,  0.79471941, -1.25830574, -1.25830574,  0.79471941,\n",
       "        0.79471941,  0.79471941,  0.79471941,  0.79471941, -1.25830574,\n",
       "       -1.25830574,  0.79471941, -1.25830574,  0.79471941,  0.79471941,\n",
       "        0.79471941,  0.79471941,  0.79471941, -1.25830574, -1.25830574,\n",
       "        0.79471941,  0.79471941,  0.79471941,  0.79471941, -1.25830574,\n",
       "       -1.25830574, -1.25830574,  0.79471941,  0.79471941, -1.25830574,\n",
       "       -1.25830574, -1.25830574, -1.25830574,  0.79471941, -1.25830574,\n",
       "        0.79471941, -1.25830574, -1.25830574,  0.79471941,  0.79471941,\n",
       "        0.79471941,  0.79471941,  0.79471941,  0.79471941,  0.79471941,\n",
       "        0.79471941, -1.25830574,  0.79471941,  0.79471941,  0.79471941,\n",
       "        0.79471941,  0.79471941,  0.79471941, -1.25830574, -1.25830574,\n",
       "       -1.25830574, -1.25830574,  0.79471941, -1.25830574, -1.25830574,\n",
       "        0.79471941,  0.79471941, -1.25830574, -1.25830574,  0.79471941,\n",
       "       -1.25830574,  0.79471941,  0.79471941,  0.79471941,  0.79471941,\n",
       "        0.79471941, -1.25830574,  0.79471941, -1.25830574,  0.79471941,\n",
       "        0.79471941])"
      ]
     },
     "execution_count": 9,
     "metadata": {},
     "output_type": "execute_result"
    }
   ],
   "source": [
    "y_train_std"
   ]
  },
  {
   "cell_type": "markdown",
   "metadata": {},
   "source": [
    "# Training sklearn's LinearRegression on the Breast Cancer dataset"
   ]
  },
  {
   "cell_type": "code",
   "execution_count": 16,
   "metadata": {},
   "outputs": [
    {
     "name": "stdout",
     "output_type": "stream",
     "text": [
      "MSE train: 0.209, test: 0.277\n",
      "R^2 train: 0.791, test: 0.712\n"
     ]
    }
   ],
   "source": [
    "from sklearn import datasets\n",
    "from sklearn.preprocessing import StandardScaler\n",
    "from sklearn.model_selection import train_test_split\n",
    "from sklearn.metrics import r2_score\n",
    "from sklearn.metrics import mean_squared_error\n",
    "import numpy as np\n",
    "\n",
    "cancer = datasets.load_breast_cancer()\n",
    "X = cancer.data\n",
    "y = cancer.target\n",
    "\n",
    "X_train, X_test, y_train, y_test = train_test_split(\n",
    "    X, y, test_size=0.4, random_state=1)\n",
    "\n",
    "sc = StandardScaler()\n",
    "sc.fit(X_train)\n",
    "X_train_std = sc.transform(X_train)\n",
    "X_test_std = sc.transform(X_test)\n",
    "\n",
    "sc_y = StandardScaler()\n",
    "sc.fit(y_train[:, np.newaxis])\n",
    "y_train_std = sc.transform(y_train[:, np.newaxis]).flatten()\n",
    "y_test_std = sc.transform(y_test[:, np.newaxis]).flatten()\n",
    "\n",
    "##################\n",
    "\n",
    "from sklearn.linear_model import LinearRegression\n",
    "\n",
    "est = LinearRegression()\n",
    "est.fit(X_train_std, y_train_std)\n",
    "\n",
    "##################\n",
    "\n",
    "y_train_pred = est.predict(X_train_std)\n",
    "y_test_pred = est.predict(X_test_std)\n",
    "\n",
    "print('MSE train: %.3f, test: %.3f' % (\n",
    "        mean_squared_error(y_train_std, y_train_pred),\n",
    "        mean_squared_error(y_test_std, y_test_pred)))\n",
    "print('R^2 train: %.3f, test: %.3f' % (\n",
    "        r2_score(y_train_std, y_train_pred),\n",
    "        r2_score(y_test_std, y_test_pred)))"
   ]
  },
  {
   "cell_type": "markdown",
   "metadata": {},
   "source": [
    "Using Linear Regression gives higher $R^2$ values for both the training and testing sets than using Linear Regression GD model.\n",
    "\n",
    "The MSE is significantly smaller when using Linear Regression than when using Linear Regression GD model.\n",
    "\n",
    "This suggests that fitting the data with Linear Regression is better than using Linear Regression GD."
   ]
  },
  {
   "cell_type": "code",
   "execution_count": null,
   "metadata": {},
   "outputs": [],
   "source": []
  }
 ],
 "metadata": {
  "kernelspec": {
   "display_name": "Python 3",
   "language": "python",
   "name": "python3"
  },
  "language_info": {
   "codemirror_mode": {
    "name": "ipython",
    "version": 3
   },
   "file_extension": ".py",
   "mimetype": "text/x-python",
   "name": "python",
   "nbconvert_exporter": "python",
   "pygments_lexer": "ipython3",
   "version": "3.8.3"
  }
 },
 "nbformat": 4,
 "nbformat_minor": 4
}
