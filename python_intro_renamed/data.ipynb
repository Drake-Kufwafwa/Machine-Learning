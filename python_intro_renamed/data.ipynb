{
 "cells": [
  {
   "cell_type": "markdown",
   "metadata": {},
   "source": [
    "Introductory Python code examples  \n",
    "Lee Spector, lspector@amherst.edu  \n",
    "August, 2020"
   ]
  },
  {
   "cell_type": "code",
   "execution_count": null,
   "metadata": {},
   "outputs": [],
   "source": [
    "%matplotlib inline\n",
    "\n",
    "from matplotlib import pyplot as plt \n",
    "import numpy as np\n",
    "\n",
    "plt.rcdefaults() # set the matplotlib runtime configuration (rc) to its defaults"
   ]
  },
  {
   "cell_type": "code",
   "execution_count": null,
   "metadata": {},
   "outputs": [],
   "source": [
    "# This gives us access to the library that will read a csv file:\n",
    "\n",
    "import csv "
   ]
  },
  {
   "cell_type": "code",
   "execution_count": null,
   "metadata": {},
   "outputs": [],
   "source": [
    "# This reads a data file, which should be in the same folder\n",
    "# as this notebook, and puts it in the variable called \n",
    "# records as a list of lists, where each sub-list is one\n",
    "# row of the data:\n",
    "\n",
    "with open('populationbycountry19802010millions.csv') as f:\n",
    "    records = [row for row in csv.reader(f)]"
   ]
  },
  {
   "cell_type": "code",
   "execution_count": null,
   "metadata": {},
   "outputs": [],
   "source": [
    "# This shows us the full data set:\n",
    "\n",
    "records"
   ]
  },
  {
   "cell_type": "code",
   "execution_count": null,
   "metadata": {},
   "outputs": [],
   "source": [
    "# This shows us how many rows there are:\n",
    "\n",
    "len(records)"
   ]
  },
  {
   "cell_type": "code",
   "execution_count": null,
   "metadata": {},
   "outputs": [],
   "source": [
    "# This shows us how many items are in the first row:\n",
    "\n",
    "len(records[0])"
   ]
  },
  {
   "cell_type": "code",
   "execution_count": null,
   "metadata": {},
   "outputs": [],
   "source": [
    "# This gives us the first row, starting at the second item\n",
    "# and going to the end:\n",
    "\n",
    "records[0][1:]"
   ]
  },
  {
   "cell_type": "code",
   "execution_count": null,
   "metadata": {},
   "outputs": [],
   "source": [
    "def try_float(s):\n",
    "    try:\n",
    "        f = float(s)\n",
    "    except ValueError:\n",
    "        return s\n",
    "    return f"
   ]
  },
  {
   "cell_type": "code",
   "execution_count": null,
   "metadata": {},
   "outputs": [],
   "source": [
    "try_float(\"123.4\")"
   ]
  },
  {
   "cell_type": "code",
   "execution_count": null,
   "metadata": {},
   "outputs": [],
   "source": [
    "type(try_float(\"123.4\"))"
   ]
  },
  {
   "cell_type": "code",
   "execution_count": null,
   "metadata": {},
   "outputs": [],
   "source": [
    "try_float(\"Alphabet soup\")"
   ]
  },
  {
   "cell_type": "code",
   "execution_count": null,
   "metadata": {},
   "outputs": [],
   "source": [
    "records = [[try_float(x) for x in row] for row in records]"
   ]
  },
  {
   "cell_type": "code",
   "execution_count": null,
   "metadata": {},
   "outputs": [],
   "source": [
    "records"
   ]
  },
  {
   "cell_type": "code",
   "execution_count": null,
   "metadata": {},
   "outputs": [],
   "source": [
    "# Here we plot the first row (without its first item) against\n",
    "# the second row (without its first item):\n",
    "\n",
    "plt.xticks(rotation=90)\n",
    "plt.plot(records[0][1:], records[1][1:])"
   ]
  },
  {
   "cell_type": "code",
   "execution_count": null,
   "metadata": {},
   "outputs": [],
   "source": [
    "# This gives us a list of just the rows for which\n",
    "# the first item is 'Mexico':\n",
    "\n",
    "[row for row in records if row[0] == 'Mexico']"
   ]
  },
  {
   "cell_type": "code",
   "execution_count": null,
   "metadata": {},
   "outputs": [],
   "source": [
    "# This gives us just the actual row that starts with 'Mexico':\n",
    "\n",
    "[row for row in records if row[0] == 'Mexico'][0]"
   ]
  },
  {
   "cell_type": "code",
   "execution_count": null,
   "metadata": {},
   "outputs": [],
   "source": [
    "# Here's the same thing for 'Sierra Leone':\n",
    "\n",
    "[row for row in records if row[0] == 'Sierra Leone'][0]"
   ]
  },
  {
   "cell_type": "code",
   "execution_count": null,
   "metadata": {},
   "outputs": [],
   "source": [
    "# Here we plot the first row (the years) on the x axis and the\n",
    "# population of Sierra Leone on the y axis:\n",
    "\n",
    "plt.plot(records[0][1:], [row for row in records if row[0] == 'Sierra Leone'][0][1:])"
   ]
  },
  {
   "cell_type": "code",
   "execution_count": null,
   "metadata": {},
   "outputs": [],
   "source": [
    "# Not sure why, but an explicit call to plt.show() is necessary now...\n",
    "\n",
    "plt.plot(records[0][1:], [row for row in records if row[0] == 'Sierra Leone'][0][1:])\n",
    "plt.show()"
   ]
  },
  {
   "cell_type": "code",
   "execution_count": null,
   "metadata": {},
   "outputs": [],
   "source": [
    "# To ignore, rather than choking on, problematic characters, you can use\n",
    "# code like this, which was adapted from:\n",
    "# http://stackoverflow.com/questions/12468179/\n",
    "#   unicodedecodeerror-utf8-codec-cant-decode-byte-0x9c\n",
    "\n",
    "import codecs\n",
    "with codecs.open('populationbycountry19802010millions.csv', \n",
    "                 \"r\", encoding='utf-8', errors='ignore') as f:\n",
    "    records = [row for row in csv.reader(f)]"
   ]
  },
  {
   "cell_type": "code",
   "execution_count": null,
   "metadata": {},
   "outputs": [],
   "source": []
  }
 ],
 "metadata": {
  "kernelspec": {
   "display_name": "Python 3",
   "language": "python",
   "name": "python3"
  },
  "language_info": {
   "codemirror_mode": {
    "name": "ipython",
    "version": 3
   },
   "file_extension": ".py",
   "mimetype": "text/x-python",
   "name": "python",
   "nbconvert_exporter": "python",
   "pygments_lexer": "ipython3",
   "version": "3.8.3"
  }
 },
 "nbformat": 4,
 "nbformat_minor": 1
}
